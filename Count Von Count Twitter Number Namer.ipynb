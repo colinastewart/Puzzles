{
 "cells": [
  {
   "cell_type": "markdown",
   "metadata": {},
   "source": [
    "# Count Von Count's Twitter:\n",
    "Notebook by Colin A. Stewart (colinstewart@engineering.ucsb.edu) 12-20-17\n",
    "#### How high can The Count (from Sesame Street) count on twitter if he has a certain character limit, his numbers are written out in Latin letters, and he ends each number enthusiastically \"!\" ?\n",
    "\n",
    "Puzzle from fivethirtyeight.com : https://fivethirtyeight.com/features/please-help-me-i-have-a-number-problem/\n",
    "\n",
    "Generic Initiallize:"
   ]
  },
  {
   "cell_type": "code",
   "execution_count": 1,
   "metadata": {
    "collapsed": true
   },
   "outputs": [],
   "source": [
    "import math\n",
    "# general math functions\n",
    "import datetime\n",
    "# system time & date etc.\n",
    "import numpy as np\n",
    "# numerical computation (sum, ave, random etc.)\n",
    "import matplotlib.pyplot as plt\n",
    "# basic plotting ability \n",
    "import seaborn as sns\n",
    "# Makes plots pretty & allows you to keep plot settings consistent\n",
    "import pandas as pd\n",
    "# Data management & analysis \n",
    "%matplotlib inline\n",
    "# When you run a cell, displays contents within the cell, like Mathematica\n",
    "%config InlineBackend.figure_format = 'pdf'\n",
    "# When it displays the contents in the cell, does so as a pdf"
   ]
  },
  {
   "cell_type": "markdown",
   "metadata": {},
   "source": [
    "### Units lists names for 1-19, with the {# : \"name\"}"
   ]
  },
  {
   "cell_type": "code",
   "execution_count": 2,
   "metadata": {
    "collapsed": true
   },
   "outputs": [],
   "source": [
    "Units = {0:\"\",1:\"one\",2:\"two\",3:\"three\",4:\"four\",5:\"five\",6:\"six\",7:\"seven\",8:\"eight\",9:\"nine\",10:\"ten\",11:\"eleven\",12:\"twelve\",13:\"thirteen\",14:\"fourteen\",15:\"fifteen\",16:\"sixteen\",17:\"seventeen\",18:\"eighteen\",19:\"nineteen\"}"
   ]
  },
  {
   "cell_type": "markdown",
   "metadata": {},
   "source": [
    "### Tens lists names for 20-90, with the {#/10 : \"name\"}"
   ]
  },
  {
   "cell_type": "code",
   "execution_count": 3,
   "metadata": {
    "collapsed": true
   },
   "outputs": [],
   "source": [
    "Tens = {2:\"twenty\",3:\"thirty\",4:\"fourty\",5:\"fifty\",6:\"sixty\",7:\"seventy\",8:\"eighty\",9:\"ninety\"}"
   ]
  },
  {
   "cell_type": "markdown",
   "metadata": {},
   "source": [
    "### Suffixes lists names for 100, 1000, 10^6 - 10^45, with the {log(#) : \"name\"}"
   ]
  },
  {
   "cell_type": "code",
   "execution_count": 4,
   "metadata": {
    "collapsed": true
   },
   "outputs": [],
   "source": [
    "Suffixes = {0:\"\",3:\"thousand\",6:\"million\",9:\"billion\",12:\"trillion\",15:\"quadrillion\",18:\"quintillion\",21:\"sextillion\",24:\"septillion\",27:\"octillion\",30:\"nonillion\",33:\"decillion\",36:\"undecillion\",39:\"duodecillion\",42:\"tredecillion\",45:\"quattuordecillion\"}"
   ]
  },
  {
   "cell_type": "markdown",
   "metadata": {},
   "source": [
    "### I. NumberNamer function enumerates an input positive integer from Arabic numerals to Latin letters\n",
    "For a given number, we break it down into sets- or groups of 100's (3 digits)\n",
    "\n",
    "Ex: 9,876,543,210 is:  [3rd set = 9],[2nd set = 876],[1st set = 543],[0th set = 210]\n",
    "\n",
    "We then cycle through each set, starting with the largest.  We'll enumerate the set, and then subtract it from the running total and loop back through until all sets have been enumerated."
   ]
  },
  {
   "cell_type": "code",
   "execution_count": 73,
   "metadata": {
    "collapsed": true
   },
   "outputs": [],
   "source": [
    "def NumberNamer(Arabic):\n",
    "    # Store input number as double to 'running', which we'll subtract from as we enumerate it into string form\n",
    "    # Then check that it's a positive integer & not too big for this script to handle\n",
    "    running=float(Arabic)\n",
    "    if ((running<=0)| (not ((running).is_integer()))):\n",
    "        print(\"Invalid Input\")\n",
    "        return;\n",
    "    powers = int(math.log10(running))\n",
    "    if (powers>47):\n",
    "        print(\"Input too big! I'll have to add to the 'Suffixes' Dictionary.\")\n",
    "        return;\n",
    "    elif (running>3*10**22):\n",
    "        print(\"Input too big! I think I'll have to change how variables are handled in memory.\")\n",
    "        return;\n",
    "    # 'output' will hold the string to be returned, as we enumerate it set by set\n",
    "    output = \"\"\n",
    "    sets = powers//3\n",
    "    \n",
    "    # Go through each set, ie. group of 100s \n",
    "    while (sets>=0) & (running>0):\n",
    "        powers = int(math.log10(running))\n",
    "        sets = powers//3\n",
    "        \n",
    "        # If input number >999, take the greatest set.  If not, take the 0th set, ie. hundreds-tens-units \n",
    "        # Store the value of the set as 'setrun', and then subtract from this value as you enumerate the set into 'output'\n",
    "        if (powers>2):\n",
    "            setrun = running//(10**(sets*3))\n",
    "        else:\n",
    "            setrun = running\n",
    "        \n",
    "        # enumerate hundreds place of the running set 'setrun'\n",
    "        if (setrun//100)>0:\n",
    "            output = output+Units[setrun//100]+\" hundred\"\n",
    "            # remove the part of the set you've just enumerated\n",
    "            setrun-=(setrun//100)*100\n",
    "            # if there's more after the hundreds place, put a space inbetween \n",
    "            if setrun>0:\n",
    "                output+=\" \"\n",
    "        # enumerate tens place of the running set \n",
    "        if (setrun//10)>1:\n",
    "            output = output+Tens[setrun//10]\n",
    "            setrun-=(setrun//10)*10\n",
    "            if setrun>0:\n",
    "                output+=\" \"   \n",
    "        # enumerate units place of the running set \n",
    "        if (setrun<20)&(setrun>0):\n",
    "            output = output+Units[setrun]\n",
    "            setrun=0\n",
    "        # if the running set is greater than the 0th set, ie. hundreds, add the set appendix \n",
    "        if (powers>2):\n",
    "            output = output+\" \"+Suffixes[sets*3]\n",
    "            if (running-(running//(10**(sets*3)))*(10**(sets*3)))>0:\n",
    "                output+=\" \"\n",
    "        \n",
    "        # remove the whole set we just enumerated from the running value\n",
    "        running-=(running//(10**(sets*3)))*(10**(sets*3))\n",
    "       \n",
    "        # re-evaluate the remainder of running value to be enumerated, restart loop\n",
    "        if running>0:\n",
    "            powers = int(math.log10(running))\n",
    "        else:\n",
    "            break;\n",
    "        sets = powers//3\n",
    "        \n",
    "\n",
    "\n",
    "    # Say it with enthusiasm!  Also Capitallize  #\n",
    "    output=output+\"!\"\n",
    "    \n",
    "    return output;"
   ]
  },
  {
   "cell_type": "markdown",
   "metadata": {},
   "source": [
    "### II. TwitterCountUp function takes a starting value and character limit\n",
    "It counts up from the starting value, enumerating each time in Latin letters, until it reaches the character limit.  Since twitter character limits allow you to count beyond 1 trillion, however, we'll probably need a smarter, faster way to reach the limit."
   ]
  },
  {
   "cell_type": "code",
   "execution_count": 74,
   "metadata": {
    "collapsed": true
   },
   "outputs": [],
   "source": [
    "def TwitterCountUp(startval,CharLimit):\n",
    "    # Print the time at start, and before each 100,000 enumerations so I can see how fast this runs\n",
    "    print(str(datetime.datetime.now()))\n",
    "    n = startval\n",
    "    while len(NumberNamer(n))<= CharLimit:\n",
    "        if ((n%100000)==0):\n",
    "            print (n,\" = \",NumberNamer(n))\n",
    "            print(str(datetime.datetime.now()))\n",
    "        n+=1\n",
    "    print (n,\" = \",NumberNamer(n),\" =\",len(NumberNamer(n)),\"chars\")\n",
    "    return n;"
   ]
  },
  {
   "cell_type": "markdown",
   "metadata": {},
   "source": [
    "### III. More smarter: let's find the different possible set lengths when enumerated, as well as the lengths of the suffixes separating them.\n",
    "Make a list of the character lengths of all numbers 1-999 (all possible sets).  Remember to subtract 1 from NumberNamer results, -'!'.  We'll then make a list of the local maxima of character lengths (e.g. 3 = \"Three\" = 5 characters, while the next number 4 = \"Four\" = 4 characters, so \"Three\" is a local maximum).  \n",
    "\n",
    "This is important because we want to achieve the highest number possible, so if we have enough characters to reach a local maximum, we should keep counting up until just before the next maximum.  These are 'free' numbers with no additional character penalty but higher numerical value.\n",
    "\n",
    "When we join the sets together into one number, we'll connect them using Suffixes, so we'll make a list of the character length of all the suffixes (+2 for the surrounding spaces)."
   ]
  },
  {
   "cell_type": "code",
   "execution_count": 75,
   "metadata": {},
   "outputs": [
    {
     "name": "stdout",
     "output_type": "stream",
     "text": [
      "Local Maxima of Set Length (SetLenMax) = \n",
      "Value =  1 Characters =  3\n",
      "Value =  3   Characters =  5\n",
      "Value =  11   Characters =  6\n",
      "Value =  13   Characters =  8\n",
      "Value =  17   Characters =  9\n",
      "Value =  21   Characters =  10\n",
      "Value =  23   Characters =  12\n",
      "Value =  73   Characters =  13\n",
      "Value =  101   Characters =  15\n",
      "Value =  103   Characters =  17\n",
      "Value =  111   Characters =  18\n",
      "Value =  113   Characters =  20\n",
      "Value =  117   Characters =  21\n",
      "Value =  121   Characters =  22\n",
      "Value =  123   Characters =  24\n",
      "Value =  173   Characters =  25\n",
      "Value =  323   Characters =  26\n",
      "Value =  373   Characters =  27\n",
      "\n",
      "Suffix Lengths with spaces= [0, 10, 9, 9, 10, 13, 13, 12, 12, 11, 11, 11, 13, 14, 14, 19] \n",
      "\n"
     ]
    }
   ],
   "source": [
    "# The list of character lengths of all sets stored at 'SetLen'\n",
    "SetLen=[]\n",
    "for n in range(1,1000):\n",
    "    SetLen.append(int(len(NumberNamer(n)))-1)\n",
    "# print(\"Unique Values of Set Length = \\n\",list(set(SetLen)),\"\\n\")\n",
    "\n",
    "\n",
    "# If you wanna plot character length vs. set value, un-comment this below.  It's kinda neat I guess; this numerical pattern is just a consequence of the English language, so I feel like it's rather arbitrary.\n",
    "# plt.scatter(range(1,1000),SetLen,label=\"Set Character Length vs. Numerical Value\")\n",
    "\n",
    "\n",
    "# The list of local maxima of character lengths stored at 'SetLenMax', and their corresponding numerical values stored at 'SetLenMaxVals'\n",
    "print(\"Local Maxima of Set Length (SetLenMax) = \")\n",
    "SetLenMax=[SetLen[1]]\n",
    "SetLenMaxVals=[1]\n",
    "print(\"Value = \",1,\"Characters = \",3)\n",
    "for n in range(2,int(len(SetLen))):\n",
    "    if int(SetLen[n])>int(SetLenMax[-1]):\n",
    "        SetLenMax.append((SetLen[n]))\n",
    "        SetLenMaxVals.append(n+1)\n",
    "        print(\"Value = \",n+1,\"  Characters = \",SetLen[n])\n",
    "        \n",
    "\n",
    "# The list of character lengths of all suffixes w/ spaces stored at 'SuffixLen'\n",
    "SuffixLen=[]\n",
    "for n in range(1,16):\n",
    "    SuffixLen.append(int(len(Suffixes[n*3]))+2)\n",
    "# Insert 0 at beginning, since the 0th set has no suffix\n",
    "SuffixLen.insert(0,0)\n",
    "print(\"\\nSuffix Lengths with spaces=\",SuffixLen,\"\\n\")"
   ]
  },
  {
   "cell_type": "markdown",
   "metadata": {},
   "source": [
    "### IV. We need to mathematically find the answer\n",
    "The answer value should be as high as possible while still guaranteeing that all numbers up to and including itself are at or shorter than the character limit.  We'll write up the following steps so that we can solve this problem programatically for any arbitrary character limit:\n",
    "\n",
    "**0)** Let's use the longest possible set value as 'filler': the absolute maximum 373 = \"Three Hundred Seventy Three\" (chars=27, see part III).  We can then think about building our number right to left.  Start with \"!\" (char=1) and then add each set consecutively, separated by each suffix +2 (for spaces). \n",
    "\n",
    ">**Ex:**  &ensp;  Building This Way &larr; ... + [1st set] + [1st Suffix] + [0th set] + !\n",
    "\n",
    "**1)** Build a number composed of only filler sets and suffixes until you can't add more without passing the character limit.  If you've hit the character limit exactly with filler sets- nice job!  If not, continue \n",
    "\n",
    "**2)** Then, we'll take our remaining characters and add the highest set that first _hits or just goes over_ our character limit. \n",
    "\n",
    "**3)** Next, we're going to do a trick to 'squeeze out' an extra two characters we can use to count to higher numbers.  Count down on the 0th filler set by 1 (373&rarr;372) to go from (chars= 27&rarr;25).  We can then use these extra characters on one of the higher sets that has more numerical value than the 0th set.  Note from the example below that we can only use this trick once (we can't lower our 0th set by multiple values & use the additional extra characters to raise a later set by multiple values.    \n",
    "\n",
    ">[max],373,373   **&rarr;**   \n",
    "[max+2chars],373,372   **&rarr;**    \n",
    "[max+2chars],373,37**3**  **&rarr;**  hits the character limit\n",
    "\n",
    "**4)** Check your character limit- if you were over before & now you're right at the limit with the characters we squeezed out of the 0th set- nice job!  If you're still over, we'll make up for the number of characters over the limit by lowering the second to last set, the highest filler set (before we take away from it).  Replace the second to last set with the highest value you can within the character limit.  To do this, look at your character length without the length of the second to last set.  Find out how many characters you have left till you hit the limit.  Then find the first local maximum set value longer than this.  Then count down in set values until you hit your remaining characters.  \n",
    "\n",
    "**5)** Put all your sets together, and double check using the NumberNamer that you're in your character limit.  Nice job!"
   ]
  },
  {
   "cell_type": "code",
   "execution_count": 108,
   "metadata": {},
   "outputs": [],
   "source": [
    "def TwitterCountSmart(CharLimit):\n",
    "    #We'll be storing our resultant number as a list of the sets (integers) in 'output' \n",
    "    output=[]\n",
    "    #And we'll store the character count of the output when enumerated as 'outLen\"\n",
    "    outLen=0\n",
    "    \n",
    "    #Remember to work right to left- start with the '!'\n",
    "    outLen=1 #the '!' is not represented in our 'output' list of integer sets, but we'll account for it in the 'outLen' \n",
    "    if outLen==CharLimit:\n",
    "        return output;\n",
    "    \n",
    "    \n",
    "    #Step 1. Fit as many filler sets as we can, this # = 'sets'\n",
    "    sets=0\n",
    "    while outLen<CharLimit:\n",
    "        output.insert(0,373) #373 is the filler set & we prepend each new set\n",
    "        outLen=(outLen+27+SuffixLen[sets]) #27 chars in the filler set\n",
    "        sets+=1\n",
    "    #We may have gone above the character limit, so remove last filler set (index=0) if so\n",
    "    if outLen>CharLimit:\n",
    "        sets-=1\n",
    "        output=output[1:]\n",
    "        outLen-=(27+SuffixLen[sets])  \n",
    "    #test if we hit the character limit exactly\n",
    "    if outLen==CharLimit:\n",
    "        return output;\n",
    "    print(\"Step 1: \",output,\" chars=\",outLen,\"\\n\")\n",
    "    \n",
    "    \n",
    "    \n",
    "    #Step 2. Add another set as high as you can at, or just over, our character limit\n",
    "    outLen+=SuffixLen[sets] #indexes from 0\n",
    "    sets+=1\n",
    "    n=0  #counter\n",
    "    # Find the highest set we can add\n",
    "    while SetLen[n]<(CharLimit-outLen):\n",
    "        n+=1\n",
    "    output.insert(0,n+1)\n",
    "    outLen+=SetLen[n]\n",
    "    print(\"Step 2: \",output,\" chars=\",outLen,\"\\n\")\n",
    "\n",
    "  \n",
    "    \n",
    "    #Step 3. Subtract 1 from set 0 to squeeze out extra characters\n",
    "    output[-1]-=1\n",
    "    outLen-=2\n",
    "    print(\"Step 3: \",output,\" chars=\",outLen,\"\\n\")\n",
    "    \n",
    "    #Step 4. Check length vs character limit & subtract from 2nd to last set to make up character deficit\n",
    "    if outLen==CharLimit:\n",
    "        return output;\n",
    "    # We're replacing the 2nd to last set (last filler set, 27 chars) with a smaller set that will let us hit the charLimit\n",
    "    charBudget=(CharLimit-(outLen-27)-1) #-1 because want to hit, not go over charLimit\n",
    "    # Find the highest set we can add\n",
    "    n=0 # counter\n",
    "    print(\"charBudget=\",charBudget,\"\\n\")\n",
    "    while SetLenMax[n]<=charBudget:\n",
    "        # Try to find a local maximum that exactly fits your characer budget (must be the 1st one to do so- you don't get 'free numbers' because of the 0th set character squeezing trick)\n",
    "        print(\"n=\",n,\" SetLenMax=\",SetLenMax[n],\" SetLenMaxVals=\",SetLenMaxVals[n],\"\\n\")\n",
    "        if SetLenMax[n]==charBudget:\n",
    "            output[1]=SetLenMaxVals[n]\n",
    "            outLen=(outLen-26+SetLenMax[n])\n",
    "        # If there's not an exact fit, find the first local max to surpass budget, and then count backwards until you're within budget\n",
    "        if SetLenMax[n]>charBudget:\n",
    "            x=SetLenMaxVals[n] #counter\n",
    "            while SetLen[x]>charBudget:\n",
    "                x-=1\n",
    "            output[1]=x\n",
    "            outLen+=SetLen[x]\n",
    "        if n==16:\n",
    "            break;\n",
    "        n+=1\n",
    "    print(\"Step 4: \",output,\" chars=\",outLen,\"\\n\")\n",
    "    \n",
    "    #Step 5. Turn the list of integer sets in 'output' into a numerical string, and also NumberNamer that number & check the character\n",
    "    stringout=\"\"\n",
    "    numberout=\"\"\n",
    "    for n in output:\n",
    "        stringout+=str(n)\n",
    "        numberout+=str(n)\n",
    "        if n==output[-1]:\n",
    "            break;\n",
    "        stringout+=\",\"    \n",
    "    print(\"Result =\",stringout,\"\\n\")\n",
    "    print(NumberNamer(int(numberout)),\"\\n\")\n",
    "    print(\"Characters =\",len(NumberNamer(int(numberout))))\n",
    "    \n",
    "    return;\n"
   ]
  },
  {
   "cell_type": "markdown",
   "metadata": {},
   "source": [
    "### V. Finally, let's test our script for the old character limit, and then find the answer for the new limit!"
   ]
  },
  {
   "cell_type": "code",
   "execution_count": 111,
   "metadata": {},
   "outputs": [
    {
     "name": "stdout",
     "output_type": "stream",
     "text": [
      "Step 1:  [373, 373, 373, 373]  chars= 137 \n",
      "\n",
      "Step 2:  [1, 373, 373, 373, 373]  chars= 150 \n",
      "\n",
      "Step 3:  [1, 373, 373, 373, 372]  chars= 148 \n",
      "\n",
      "charBudget= 18 \n",
      "\n",
      "n= 0  SetLenMax= 3  SetLenMaxVals= 1 \n",
      "\n",
      "n= 1  SetLenMax= 5  SetLenMaxVals= 3 \n",
      "\n",
      "n= 2  SetLenMax= 6  SetLenMaxVals= 11 \n",
      "\n",
      "n= 3  SetLenMax= 8  SetLenMaxVals= 13 \n",
      "\n",
      "n= 4  SetLenMax= 9  SetLenMaxVals= 17 \n",
      "\n",
      "n= 5  SetLenMax= 10  SetLenMaxVals= 21 \n",
      "\n",
      "n= 6  SetLenMax= 12  SetLenMaxVals= 23 \n",
      "\n",
      "n= 7  SetLenMax= 13  SetLenMaxVals= 73 \n",
      "\n",
      "n= 8  SetLenMax= 15  SetLenMaxVals= 101 \n",
      "\n",
      "n= 9  SetLenMax= 17  SetLenMaxVals= 103 \n",
      "\n",
      "n= 10  SetLenMax= 18  SetLenMaxVals= 111 \n",
      "\n",
      "Step 4:  [1, 111, 373, 373, 372]  chars= 140 \n",
      "\n",
      "Result = 1,111,373,373,372 \n",
      "\n",
      "one trillion one hundred eleven billion three hundred seventy three million three hundred seventy three thousand three hundred seventy two! \n",
      "\n",
      "Characters = 139\n"
     ]
    }
   ],
   "source": [
    "TwitterCountSmart(140)"
   ]
  },
  {
   "cell_type": "code",
   "execution_count": 110,
   "metadata": {},
   "outputs": [
    {
     "name": "stdout",
     "output_type": "stream",
     "text": [
      "Step 1:  [373, 373, 373, 373, 373, 373, 373]  chars= 254 \n",
      "\n",
      "Step 2:  [101, 373, 373, 373, 373, 373, 373, 373]  chars= 281 \n",
      "\n",
      "Step 3:  [101, 373, 373, 373, 373, 373, 373, 372]  chars= 279 \n",
      "\n",
      "charBudget= 27 \n",
      "\n",
      "n= 0  SetLenMax= 3  SetLenMaxVals= 1 \n",
      "\n",
      "n= 1  SetLenMax= 5  SetLenMaxVals= 3 \n",
      "\n",
      "n= 2  SetLenMax= 6  SetLenMaxVals= 11 \n",
      "\n",
      "n= 3  SetLenMax= 8  SetLenMaxVals= 13 \n",
      "\n",
      "n= 4  SetLenMax= 9  SetLenMaxVals= 17 \n",
      "\n",
      "n= 5  SetLenMax= 10  SetLenMaxVals= 21 \n",
      "\n",
      "n= 6  SetLenMax= 12  SetLenMaxVals= 23 \n",
      "\n",
      "n= 7  SetLenMax= 13  SetLenMaxVals= 73 \n",
      "\n",
      "n= 8  SetLenMax= 15  SetLenMaxVals= 101 \n",
      "\n",
      "n= 9  SetLenMax= 17  SetLenMaxVals= 103 \n",
      "\n",
      "n= 10  SetLenMax= 18  SetLenMaxVals= 111 \n",
      "\n",
      "n= 11  SetLenMax= 20  SetLenMaxVals= 113 \n",
      "\n",
      "n= 12  SetLenMax= 21  SetLenMaxVals= 117 \n",
      "\n",
      "n= 13  SetLenMax= 22  SetLenMaxVals= 121 \n",
      "\n",
      "n= 14  SetLenMax= 24  SetLenMaxVals= 123 \n",
      "\n",
      "n= 15  SetLenMax= 25  SetLenMaxVals= 173 \n",
      "\n",
      "n= 16  SetLenMax= 26  SetLenMaxVals= 323 \n",
      "\n",
      "Step 4:  [101, 373, 373, 373, 373, 373, 373, 372]  chars= 279 \n",
      "\n",
      "Result = 101,373,373,373,373,373,373,372 \n",
      "\n",
      "Input too big! I think I'll have to change how variables are handled in memory.\n",
      "None \n",
      "\n",
      "Input too big! I think I'll have to change how variables are handled in memory.\n"
     ]
    },
    {
     "ename": "TypeError",
     "evalue": "object of type 'NoneType' has no len()",
     "output_type": "error",
     "traceback": [
      "\u001b[0;31m---------------------------------------------------------------------------\u001b[0m",
      "\u001b[0;31mTypeError\u001b[0m                                 Traceback (most recent call last)",
      "\u001b[0;32m<ipython-input-110-ba39e3358e79>\u001b[0m in \u001b[0;36m<module>\u001b[0;34m()\u001b[0m\n\u001b[0;32m----> 1\u001b[0;31m \u001b[0mTwitterCountSmart\u001b[0m\u001b[0;34m(\u001b[0m\u001b[0;36m280\u001b[0m\u001b[0;34m)\u001b[0m\u001b[0;34m\u001b[0m\u001b[0m\n\u001b[0m",
      "\u001b[0;32m<ipython-input-108-3386140cf4af>\u001b[0m in \u001b[0;36mTwitterCountSmart\u001b[0;34m(CharLimit)\u001b[0m\n\u001b[1;32m     84\u001b[0m     \u001b[0mprint\u001b[0m\u001b[0;34m(\u001b[0m\u001b[0;34m\"Result =\"\u001b[0m\u001b[0;34m,\u001b[0m\u001b[0mstringout\u001b[0m\u001b[0;34m,\u001b[0m\u001b[0;34m\"\\n\"\u001b[0m\u001b[0;34m)\u001b[0m\u001b[0;34m\u001b[0m\u001b[0m\n\u001b[1;32m     85\u001b[0m     \u001b[0mprint\u001b[0m\u001b[0;34m(\u001b[0m\u001b[0mNumberNamer\u001b[0m\u001b[0;34m(\u001b[0m\u001b[0mint\u001b[0m\u001b[0;34m(\u001b[0m\u001b[0mnumberout\u001b[0m\u001b[0;34m)\u001b[0m\u001b[0;34m)\u001b[0m\u001b[0;34m,\u001b[0m\u001b[0;34m\"\\n\"\u001b[0m\u001b[0;34m)\u001b[0m\u001b[0;34m\u001b[0m\u001b[0m\n\u001b[0;32m---> 86\u001b[0;31m     \u001b[0mprint\u001b[0m\u001b[0;34m(\u001b[0m\u001b[0;34m\"Characters =\"\u001b[0m\u001b[0;34m,\u001b[0m\u001b[0mlen\u001b[0m\u001b[0;34m(\u001b[0m\u001b[0mNumberNamer\u001b[0m\u001b[0;34m(\u001b[0m\u001b[0mint\u001b[0m\u001b[0;34m(\u001b[0m\u001b[0mnumberout\u001b[0m\u001b[0;34m)\u001b[0m\u001b[0;34m)\u001b[0m\u001b[0;34m)\u001b[0m\u001b[0;34m)\u001b[0m\u001b[0;34m\u001b[0m\u001b[0m\n\u001b[0m\u001b[1;32m     87\u001b[0m \u001b[0;34m\u001b[0m\u001b[0m\n\u001b[1;32m     88\u001b[0m     \u001b[0;32mreturn\u001b[0m\u001b[0;34m;\u001b[0m\u001b[0;34m\u001b[0m\u001b[0m\n",
      "\u001b[0;31mTypeError\u001b[0m: object of type 'NoneType' has no len()"
     ]
    }
   ],
   "source": [
    "TwitterCountSmart(280)"
   ]
  },
  {
   "cell_type": "markdown",
   "metadata": {},
   "source": [
    "### Epilogue-\n",
    "With the new character limit, we get numbers too large for NumberNamer to handle with the way I've currently written the script (I think it's a variable memory issue).  But using our mathematical / programmatic approach, we still get an answer.  We'll have to check once the Riddler Express results are out"
   ]
  },
  {
   "cell_type": "code",
   "execution_count": null,
   "metadata": {
    "collapsed": true
   },
   "outputs": [],
   "source": []
  }
 ],
 "metadata": {
  "kernelspec": {
   "display_name": "Python 3",
   "language": "python",
   "name": "python3"
  },
  "language_info": {
   "codemirror_mode": {
    "name": "ipython",
    "version": 3
   },
   "file_extension": ".py",
   "mimetype": "text/x-python",
   "name": "python",
   "nbconvert_exporter": "python",
   "pygments_lexer": "ipython3",
   "version": "3.6.2"
  }
 },
 "nbformat": 4,
 "nbformat_minor": 2
}
